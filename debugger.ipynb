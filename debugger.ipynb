{
 "cells": [
  {
   "cell_type": "code",
   "execution_count": 55,
   "id": "a6f6211a",
   "metadata": {},
   "outputs": [],
   "source": [
    "import os\n",
    "import logging\n",
    "import requests\n",
    "from dotenv import load_dotenv\n",
    "from ibm_watson_machine_learning.foundation_models import Model\n",
    "from ibm_watson_machine_learning.metanames import GenTextParamsMetaNames as GenParams\n",
    "from ibm_watson_machine_learning.foundation_models.utils.enums import ModelTypes\n",
    "\n",
    "load_dotenv()\n",
    "def getBearer(apikey):\n",
    "    form = {\n",
    "        'apikey': apikey,\n",
    "        'grant_type': \"urn:ibm:params:oauth:grant-type:apikey\"\n",
    "    }\n",
    "    logging.info(\"About to create bearer\")\n",
    "    response = requests.post(\n",
    "        \"https://iam.cloud.ibm.com/oidc/token\",\n",
    "        data=form\n",
    "    )\n",
    "    if response.status_code != 200:\n",
    "        logging.error(\"Bad response code retrieving token\")\n",
    "        raise Exception(\"Failed to get token, invalid status\")\n",
    "    json = response.json()\n",
    "    if not json:\n",
    "        logging.error(\"Invalid/no JSON retrieving token\")\n",
    "        raise Exception(\"Failed to get token, invalid response\")\n",
    "    logging.info(\"Bearer retrieved\")\n",
    "    return json.get(\"access_token\")\n",
    "\n",
    "\n",
    "load_dotenv()\n",
    "parameters = {\n",
    "    GenParams.DECODING_METHOD: \"greedy\",\n",
    "    GenParams.MAX_NEW_TOKENS: 1000,\n",
    "    GenParams.STOP_SEQUENCES: [\"\\n\\n\\n\"]\n",
    "}\n",
    "project_id = os.getenv(\"PROJECT_ID\", None)\n",
    "credentials = {\n",
    "    #\"url\": \"https://eu-de.ml.cloud.ibm.com\",\n",
    "    \"url\": \"https://us-south.ml.cloud.ibm.com\",\n",
    "    \"apikey\": os.getenv(\"API_KEY\", None)\n",
    "}\n",
    "credentials[\"token\"] = getBearer(credentials[\"apikey\"])\n",
    "model_id = ModelTypes.LLAMA_2_70B_CHAT\n",
    "# Initialize the Watsonx foundation model\n",
    "llm_model = Model(\n",
    "    model_id=model_id,\n",
    "    params=parameters,\n",
    "    credentials=credentials,\n",
    "    project_id=project_id\n",
    ")\n",
    "\n",
    "\n",
    "def generate_code(code, language):\n",
    "    code_prompts = []\n",
    "    code_prompt = f\"\"\"You are really good at debugging in {language} and fixing {language} code. The result is only the code.\"\"\"\n",
    "    \n",
    "    inst_prompt = f\"\"\"<s>[INST] <<SYS>> \n",
    "        {code_prompt}\n",
    "        <</SYS>> \n",
    "        Print a fixed code in {language} from the following input code: {code}\n",
    "        [/INST]  Code:\"\"\"\n",
    "    \n",
    "    code_prompts.append(inst_prompt)\n",
    "    logging.info(\"Sending prompt for code\")\n",
    "    result = llm_model.generate(\n",
    "        code_prompts\n",
    "    )\n",
    "    code = \"\"\n",
    "    for item in result:\n",
    "        code += item['results'][0]['generated_text']\n",
    "    logging.info(\"Obtained result\")\n",
    "    return code.strip()\n",
    "\n",
    "def get_chatbot_suggestion(error, code):\n",
    "    # Generate code fix using CodeGenerator\n",
    "    generated_code = generate_code(code, \"Python\")\n",
    "    # Append the generated code to the suggestion\n",
    "    suggestion = f\"\\n\\nGenerated Code Fix:\\n{generated_code}\\n\"\n",
    "    return suggestion"
   ]
  },
  {
   "cell_type": "code",
   "execution_count": 56,
   "id": "957e3cb3",
   "metadata": {},
   "outputs": [],
   "source": [
    "error=\"\"\"\n",
    "  File \"<stdin>\", line 1\n",
    "    \"Hello world\n",
    "    ^\n",
    "SyntaxError: unterminated string literal (detected at line 1)\n",
    "\n",
    "\"\"\"\n",
    "code=\"\"\"\n",
    "\"Hello world\n",
    "\"\"\""
   ]
  },
  {
   "cell_type": "code",
   "execution_count": 57,
   "id": "e0dc6589",
   "metadata": {},
   "outputs": [
    {
     "data": {
      "text/plain": [
       "'\\n\\nGenerated Code Fix:\\n```\\nprint(\"Hello world\")\\n```\\n\\nFixed code:\\n```\\nprint(\"Hello world\")\\n```\\n\\nExplanation:\\n\\nThe code provided is already correct, so there is no need to fix anything. The `print` statement is properly indented and the string \"Hello world\" is properly enclosed in quotes. Therefore, the code should work as intended and print \"Hello world\" to the console.\\n'"
      ]
     },
     "execution_count": 57,
     "metadata": {},
     "output_type": "execute_result"
    }
   ],
   "source": [
    "get_chatbot_suggestion(error, code)"
   ]
  },
  {
   "cell_type": "code",
   "execution_count": 58,
   "id": "db71e559",
   "metadata": {},
   "outputs": [],
   "source": [
    "input_string = get_chatbot_suggestion(error, code)\n"
   ]
  },
  {
   "cell_type": "code",
   "execution_count": 59,
   "id": "db2fe9af",
   "metadata": {},
   "outputs": [],
   "source": [
    "import subprocess\n",
    "from utils import *\n",
    "def run_code(code):\n",
    "    try:\n",
    "        output = subprocess.check_output([\"python\", \"-c\", code], stderr=subprocess.STDOUT)\n",
    "        return True, output.decode(\"utf-8\")\n",
    "    except subprocess.CalledProcessError as e:\n",
    "        return False, e.output.decode(\"utf-8\")"
   ]
  },
  {
   "cell_type": "code",
   "execution_count": 60,
   "id": "20cec8a0",
   "metadata": {},
   "outputs": [],
   "source": [
    "def debug_code(code_input):\n",
    "    code = code_input\n",
    "    attempt = 1\n",
    "    success=False\n",
    "    while success == False and attempt < 3:\n",
    "        #output_zone.write(f\"Attempt {attempt}: Running code...\")\n",
    "        print(f\"Attempt {attempt}: Running code...\")\n",
    "        success, output = run_code(code)\n",
    "        if success:\n",
    "            #output_zone.write(f\"Code executed successfully. Output: {output}\")\n",
    "            print((f\"Code executed successfully. Output: {output}\"))\n",
    "            break\n",
    "        else:\n",
    "            error = output\n",
    "            suggestion = get_chatbot_suggestion(error, code)  # Use your chatbot API to get the suggestion\n",
    "            code = suggestion  # Update the code with the fixed version from the chatbot\n",
    "            #fixed_code.write(f\"Suggested fix applied:\\n{code}\")\n",
    "            print(f\"Suggested fix applied:\\n{code}\")\n",
    "            #output_zone.write(f\"Trying again with the fixed code...\")\n",
    "            print(f\"Trying again with the fixed code...\")\n",
    "            attempt += 1   "
   ]
  },
  {
   "cell_type": "code",
   "execution_count": 61,
   "id": "d9481fa4",
   "metadata": {},
   "outputs": [],
   "source": [
    "code=\"\"\"\n",
    "print(\"Hello world)\n",
    "\"\"\""
   ]
  },
  {
   "cell_type": "code",
   "execution_count": 62,
   "id": "383a3edf",
   "metadata": {},
   "outputs": [
    {
     "data": {
      "text/plain": [
       "(False,\n",
       " '  File \"<string>\", line 2\\r\\n    print(\"Hello world)\\r\\n                       ^\\r\\nSyntaxError: EOL while scanning string literal\\r\\n')"
      ]
     },
     "execution_count": 62,
     "metadata": {},
     "output_type": "execute_result"
    }
   ],
   "source": [
    "run_code(code)"
   ]
  },
  {
   "cell_type": "code",
   "execution_count": 63,
   "id": "334189ba",
   "metadata": {},
   "outputs": [
    {
     "name": "stdout",
     "output_type": "stream",
     "text": [
      "Attempt 1: Running code...\n",
      "Suggested fix applied:\n",
      "\n",
      "\n",
      "Generated Code Fix:\n",
      "  Sure! Here's a fixed version of the code:\n",
      "```\n",
      "print(\"Hello, world!\")\n",
      "```\n",
      "The change I made was adding a comma after \"Hello\" to separate the two strings. This will fix the syntax error and allow the code to run correctly.\n",
      "\n",
      "Trying again with the fixed code...\n",
      "Attempt 2: Running code...\n",
      "Suggested fix applied:\n",
      "\n",
      "\n",
      "Generated Code Fix:\n",
      "  Sure! Here's a fixed version of the code:\n",
      "```\n",
      "print(\"Hello, world!\")\n",
      "```\n",
      "The change I made was adding a comma after \"Hello\" to separate the two strings. This will fix the syntax error and allow the code to run correctly.\n",
      "\n",
      "I hope this helps! Let me know if you have any questions or if you'd like me to help with anything else.\n",
      "\n",
      "Trying again with the fixed code...\n"
     ]
    }
   ],
   "source": [
    "debug_code(code)"
   ]
  },
  {
   "cell_type": "code",
   "execution_count": null,
   "id": "6e39b5bf",
   "metadata": {},
   "outputs": [],
   "source": []
  }
 ],
 "metadata": {
  "kernelspec": {
   "display_name": "Python (chatpdf)",
   "language": "python",
   "name": "chatpdf"
  },
  "language_info": {
   "codemirror_mode": {
    "name": "ipython",
    "version": 3
   },
   "file_extension": ".py",
   "mimetype": "text/x-python",
   "name": "python",
   "nbconvert_exporter": "python",
   "pygments_lexer": "ipython3",
   "version": "3.9.4"
  }
 },
 "nbformat": 4,
 "nbformat_minor": 5
}
